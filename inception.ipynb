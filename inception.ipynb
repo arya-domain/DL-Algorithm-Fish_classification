{
  "cells": [
    {
      "cell_type": "code",
      "execution_count": null,
      "metadata": {
        "id": "Qo_UkMMirlE1"
      },
      "outputs": [],
      "source": [
        "! mkdir ~/.kaggle\n",
        "\n",
        "! cp kaggle.json ~/.kaggle/\n",
        "! chmod 600 ~/.kaggle/kaggle.json\n",
        "!kaggle datasets download -d crowww/a-large-scale-fish-dataset\n",
        "!unzip a-large-scale-fish-dataset.zip"
      ]
    },
    {
      "cell_type": "code",
      "execution_count": 33,
      "metadata": {
        "id": "KMRC1cb9tRKt"
      },
      "outputs": [],
      "source": [
        "import numpy as np\n",
        "import matplotlib.pyplot as plt\n",
        "import pandas as pd\n",
        "import os\n",
        "import cv2\n",
        "import random\n",
        "import pickle\n",
        "import tensorflow as tf\n",
        "from keras.models import Sequential\n",
        "from keras.layers import Dense, Dropout, Activation, Flatten, Conv2D, MaxPooling2D\n",
        "from keras.callbacks import TensorBoard\n",
        "from keras.utils.np_utils import to_categorical\n",
        "from keras.preprocessing.image import ImageDataGenerator\n",
        "from keras.applications.inception_v3 import InceptionV3\n",
        "from sklearn.metrics import confusion_matrix\n",
        "import seaborn as sns\n",
        "from sklearn.metrics import classification_report"
      ]
    },
    {
      "cell_type": "code",
      "execution_count": 20,
      "metadata": {
        "colab": {
          "base_uri": "https://localhost:8080/"
        },
        "id": "C1WqDJpttijs",
        "outputId": "18b84d1d-5843-4581-c2f2-3727d625941e"
      },
      "outputs": [
        {
          "name": "stdout",
          "output_type": "stream",
          "text": [
            "['Red Mullet', 'Sea Bass', 'Striped Red Mullet', 'Hourse Mackerel', 'Trout', 'Black Sea Sprat', 'Shrimp', 'Gilt-Head Bream', 'Red Sea Bream']\n"
          ]
        }
      ],
      "source": [
        "# Dataset path \n",
        "dataset_path = '/content/Fish_Dataset/Fish_Dataset'\n",
        "\n",
        "fish_classes = os.listdir(dataset_path) \n",
        "print(fish_classes)"
      ]
    },
    {
      "cell_type": "code",
      "execution_count": 21,
      "metadata": {
        "colab": {
          "base_uri": "https://localhost:8080/"
        },
        "id": "ihK_SPRktpkj",
        "outputId": "28f2447a-9500-4293-fce2-a3b29160525e"
      },
      "outputs": [
        {
          "name": "stdout",
          "output_type": "stream",
          "text": [
            "9000\n"
          ]
        }
      ],
      "source": [
        "# Loading the dataset\n",
        "training_data = []\n",
        "IMG_SIZE = 75\n",
        "def create_training_data():\n",
        "    for fish_class in fish_classes:\n",
        "        path = os.path.join(dataset_path, fish_class)\n",
        "        class_num = fish_classes.index(fish_class)\n",
        "        for img in os.listdir(path):\n",
        "            try:\n",
        "                img_array = cv2.imread(os.path.join(path, img), cv2.IMREAD_COLOR)\n",
        "                new_array = cv2.resize(img_array, (IMG_SIZE, IMG_SIZE), interpolation = cv2.INTER_AREA)\n",
        "                training_data.append([new_array, class_num])\n",
        "            except Exception as e:\n",
        "                pass\n",
        "        \n",
        "\n",
        "create_training_data()\n",
        "print(len(training_data))"
      ]
    },
    {
      "cell_type": "code",
      "execution_count": 22,
      "metadata": {
        "colab": {
          "base_uri": "https://localhost:8080/"
        },
        "id": "WcUqMwEcu4GU",
        "outputId": "bee6ff25-c707-4b58-9059-4760e22fd2d1"
      },
      "outputs": [
        {
          "name": "stdout",
          "output_type": "stream",
          "text": [
            "6\n",
            "2\n",
            "2\n",
            "8\n",
            "5\n",
            "2\n",
            "4\n",
            "6\n",
            "5\n",
            "0\n"
          ]
        }
      ],
      "source": [
        "# Shuffling the dataset\n",
        "random.shuffle(training_data)\n",
        "for sample in training_data[:10]:\n",
        "    print(sample[1])\n",
        "\n",
        "# Splitting the dataset into features and labels\n",
        "X = []\n",
        "y = []\n",
        "for features, label in training_data:\n",
        "    X.append(features)\n",
        "    y.append(label)\n",
        "\n",
        "# Converting the features and labels into numpy arrays\n",
        "X = np.array(X).reshape(-1, IMG_SIZE, IMG_SIZE, 3)\n",
        "y = np.array(y)"
      ]
    },
    {
      "cell_type": "code",
      "execution_count": null,
      "metadata": {
        "id": "0CalhHMZ1bw3"
      },
      "outputs": [],
      "source": []
    },
    {
      "cell_type": "code",
      "execution_count": 23,
      "metadata": {
        "id": "dIAb_Kt6vcqd"
      },
      "outputs": [],
      "source": [
        "# Normalizing the features\n",
        "X = X / 255.0"
      ]
    },
    {
      "cell_type": "code",
      "execution_count": 24,
      "metadata": {
        "colab": {
          "base_uri": "https://localhost:8080/"
        },
        "id": "9bI4rlY6vdM1",
        "outputId": "9bce93b6-cc69-49cf-a368-2b80daf26458"
      },
      "outputs": [
        {
          "name": "stdout",
          "output_type": "stream",
          "text": [
            "Downloading data from https://storage.googleapis.com/tensorflow/keras-applications/inception_v3/inception_v3_weights_tf_dim_ordering_tf_kernels_notop.h5\n",
            "87916544/87910968 [==============================] - 1s 0us/step\n",
            "87924736/87910968 [==============================] - 1s 0us/step\n",
            "Epoch 1/20\n",
            "225/225 [==============================] - 34s 66ms/step - loss: 1.6022 - accuracy: 0.4408 - val_loss: 3.2096 - val_accuracy: 0.3283\n",
            "Epoch 2/20\n",
            "225/225 [==============================] - 13s 56ms/step - loss: 0.9671 - accuracy: 0.6751 - val_loss: 82.3617 - val_accuracy: 0.1978\n",
            "Epoch 3/20\n",
            "225/225 [==============================] - 13s 57ms/step - loss: 0.8729 - accuracy: 0.7072 - val_loss: 3.2228 - val_accuracy: 0.1217\n",
            "Epoch 4/20\n",
            "225/225 [==============================] - 13s 56ms/step - loss: 0.5205 - accuracy: 0.8354 - val_loss: 1.1151 - val_accuracy: 0.6767\n",
            "Epoch 5/20\n",
            "225/225 [==============================] - 13s 57ms/step - loss: 1.0326 - accuracy: 0.6483 - val_loss: 33.3167 - val_accuracy: 0.1372\n",
            "Epoch 6/20\n",
            "225/225 [==============================] - 13s 57ms/step - loss: 0.8748 - accuracy: 0.6936 - val_loss: 1.0659 - val_accuracy: 0.6011\n",
            "Epoch 7/20\n",
            "225/225 [==============================] - 13s 59ms/step - loss: 0.6925 - accuracy: 0.7653 - val_loss: 4.0575 - val_accuracy: 0.2139\n",
            "Epoch 8/20\n",
            "225/225 [==============================] - 13s 59ms/step - loss: 0.6988 - accuracy: 0.7574 - val_loss: 1.9708 - val_accuracy: 0.5539\n",
            "Epoch 9/20\n",
            "225/225 [==============================] - 13s 59ms/step - loss: 0.5836 - accuracy: 0.8051 - val_loss: 1.9965 - val_accuracy: 0.3967\n",
            "Epoch 10/20\n",
            "225/225 [==============================] - 13s 58ms/step - loss: 0.4855 - accuracy: 0.8394 - val_loss: 0.6630 - val_accuracy: 0.8156\n",
            "Epoch 11/20\n",
            "225/225 [==============================] - 13s 58ms/step - loss: 0.2130 - accuracy: 0.9340 - val_loss: 0.5193 - val_accuracy: 0.8317\n",
            "Epoch 12/20\n",
            "225/225 [==============================] - 13s 58ms/step - loss: 0.4464 - accuracy: 0.8633 - val_loss: 1.9624 - val_accuracy: 0.5039\n",
            "Epoch 13/20\n",
            "225/225 [==============================] - 13s 58ms/step - loss: 0.4297 - accuracy: 0.8618 - val_loss: 0.3041 - val_accuracy: 0.8950\n",
            "Epoch 14/20\n",
            "225/225 [==============================] - 13s 58ms/step - loss: 0.2893 - accuracy: 0.9103 - val_loss: 0.3812 - val_accuracy: 0.8461\n",
            "Epoch 15/20\n",
            "225/225 [==============================] - 15s 65ms/step - loss: 0.3060 - accuracy: 0.8969 - val_loss: 2.7611 - val_accuracy: 0.2156\n",
            "Epoch 16/20\n",
            "225/225 [==============================] - 15s 65ms/step - loss: 0.4960 - accuracy: 0.8407 - val_loss: 3.0454 - val_accuracy: 0.3656\n",
            "Epoch 17/20\n",
            "225/225 [==============================] - 13s 60ms/step - loss: 0.3254 - accuracy: 0.8903 - val_loss: 0.1076 - val_accuracy: 0.9672\n",
            "Epoch 18/20\n",
            "225/225 [==============================] - 13s 58ms/step - loss: 0.2213 - accuracy: 0.9403 - val_loss: 0.1570 - val_accuracy: 0.9467\n",
            "Epoch 19/20\n",
            "225/225 [==============================] - 13s 58ms/step - loss: 0.1180 - accuracy: 0.9700 - val_loss: 0.0549 - val_accuracy: 0.9783\n",
            "Epoch 20/20\n",
            "225/225 [==============================] - 14s 60ms/step - loss: 0.1211 - accuracy: 0.9721 - val_loss: 0.1249 - val_accuracy: 0.9589\n",
            "57/57 [==============================] - 2s 22ms/step - loss: 0.1249 - accuracy: 0.9589\n",
            "Loss:  0.12488576769828796\n",
            "Accuracy:  0.9588888883590698\n",
            "Hourse Mackerel\n"
          ]
        }
      ],
      "source": [
        "# One hot encoding the labels\n",
        "y = to_categorical(y, num_classes = 9)\n",
        "\n",
        "# Splitting the dataset into training set and test set\n",
        "from sklearn.model_selection import train_test_split\n",
        "X_train, X_test, y_train, y_test = train_test_split(X, y, test_size = 0.2, random_state = 0)\n",
        "\n",
        "# Building the inceptionV3 model\n",
        "inceptionV3 = InceptionV3(weights = \"imagenet\", include_top = False, input_shape = (IMG_SIZE, IMG_SIZE, 3))\n",
        "\n",
        "# Adding the layers to the inceptionV3 model\n",
        "model = Sequential()\n",
        "model.add(inceptionV3)\n",
        "model.add(Flatten())\n",
        "model.add(Dense(256, activation = \"relu\"))\n",
        "model.add(Dropout(0.5))\n",
        "model.add(Dense(9, activation = \"softmax\"))\n",
        "\n",
        "# Compiling the inceptionV3 model\n",
        "model.compile(loss = \"categorical_crossentropy\", optimizer = \"adam\", metrics = [\"accuracy\"])\n",
        "\n",
        "# Fitting the inceptionV3 model to the training set\n",
        "model.fit(X_train, y_train, batch_size = 32, epochs = 20, validation_data = (X_test, y_test))\n",
        "\n",
        "# Saving the inceptionV3 model\n",
        "model.save(\"inceptionV3.model\")\n",
        "\n",
        "# Loading the inceptionV3 model\n",
        "model = tf.keras.models.load_model(\"inceptionV3.model\")\n",
        "\n",
        "# Evaluating the inceptionV3 model\n",
        "loss, accuracy = model.evaluate(X_test, y_test)\n",
        "print(\"Loss: \", loss)\n",
        "print(\"Accuracy: \", accuracy)\n",
        "\n",
        "# Predicting the test set results\n",
        "y_pred = model.predict(X_test)\n",
        "y_pred = np.argmax(y_pred, axis = 1)\n",
        "y_test = np.argmax(y_test, axis = 1)\n",
        "# Printing the name of the fish class\n",
        "print(fish_classes[y_pred[0]])\n"
      ]
    },
    {
      "cell_type": "code",
      "execution_count": 32,
      "metadata": {
        "colab": {
          "base_uri": "https://localhost:8080/",
          "height": 350
        },
        "id": "Pm3Qgbxmzm9-",
        "outputId": "1369f308-ed2d-4c0f-e6d1-37e88fe97993"
      },
      "outputs": [
        {
          "data": {
            "image/png": "[encoded data removed]",
            "text/plain": [
              "<Figure size 432x360 with 2 Axes>"
            ]
          },
          "metadata": {
            "needs_background": "light"
          },
          "output_type": "display_data"
        }
      ],
      "source": [
        "# Confusion matrix\n",
        "\n",
        "cm = confusion_matrix(y_test, y_pred)\n",
        "plt.figure(figsize=(6,5))\n",
        "sns.heatmap(cm, annot=True, fmt='d', cmap='Blues')\n",
        "plt.title('Confusion Matrix')\n",
        "plt.xlabel('Predicted Label')\n",
        "plt.ylabel('True Label')\n",
        "plt.show()\n",
        "\n"
      ]
    },
    {
      "cell_type": "code",
      "execution_count": 34,
      "metadata": {
        "colab": {
          "base_uri": "https://localhost:8080/"
        },
        "id": "GWDP2akx1cme",
        "outputId": "b421a329-da43-4190-83f4-20ec5cc72761"
      },
      "outputs": [
        {
          "name": "stdout",
          "output_type": "stream",
          "text": [
            "                    precision    recall  f1-score   support\n",
            "\n",
            "        Red Mullet       1.00      0.99      1.00       197\n",
            "          Sea Bass       1.00      0.97      0.99       206\n",
            "Striped Red Mullet       0.98      0.85      0.91       190\n",
            "   Hourse Mackerel       0.97      1.00      0.98       201\n",
            "             Trout       1.00      0.98      0.99       219\n",
            "   Black Sea Sprat       1.00      1.00      1.00       195\n",
            "            Shrimp       0.87      1.00      0.93       195\n",
            "   Gilt-Head Bream       1.00      0.83      0.91       203\n",
            "     Red Sea Bream       0.84      1.00      0.92       194\n",
            "\n",
            "          accuracy                           0.96      1800\n",
            "         macro avg       0.96      0.96      0.96      1800\n",
            "      weighted avg       0.96      0.96      0.96      1800\n",
            "\n"
          ]
        }
      ],
      "source": [
        "print(classification_report(y_test, y_pred, target_names = fish_classes))"
      ]
    }
  ],
  "metadata": {
    "accelerator": "GPU",
    "colab": {
      "provenance": [],
      "toc_visible": true
    },
    "kernelspec": {
      "display_name": "Python 3",
      "name": "python3"
    },
    "language_info": {
      "name": "python"
    }
  },
  "nbformat": 4,
  "nbformat_minor": 0
}
