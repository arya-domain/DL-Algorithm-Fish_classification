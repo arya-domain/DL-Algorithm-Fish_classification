{
  "nbformat": 4,
  "nbformat_minor": 0,
  "metadata": {
    "colab": {
      "provenance": []
    },
    "kernelspec": {
      "name": "python3",
      "display_name": "Python 3"
    },
    "language_info": {
      "name": "python"
    },
    "accelerator": "GPU"
  },
  "cells": [
    {
      "cell_type": "code",
      "source": [
        "import numpy as np\n",
        "import pandas as pd\n",
        "import os\n",
        "import matplotlib.pyplot as plt\n",
        "import tensorflow as tf\n",
        "\n",
        "from keras.utils.np_utils import to_categorical\n",
        "from keras.preprocessing.image import load_img, img_to_array\n",
        "from keras.preprocessing.image import ImageDataGenerator\n",
        "\n",
        "from sklearn.metrics import classification_report, log_loss, accuracy_score\n",
        "from sklearn.model_selection import train_test_split"
      ],
      "metadata": {
        "id": "lSQLppgTyYOD"
      },
      "execution_count": 12,
      "outputs": []
    },
    {
      "cell_type": "code",
      "source": [
        "directory = '/content/Fish_Dataset/Fish_Dataset'"
      ],
      "metadata": {
        "id": "Cx_9WEjeyZ8b"
      },
      "execution_count": 13,
      "outputs": []
    },
    {
      "cell_type": "code",
      "source": [
        "Name=[]\n",
        "for file in os.listdir(directory):\n",
        "    if file[-4:]!='pt.m' and file[-4:]!='.txt':\n",
        "        Name+=[file]\n",
        "print(Name)\n",
        "print(len(Name))\n",
        "['Hourse Mackerel', 'Black Sea Sprat', 'Sea Bass', 'Red Mullet', 'Trout', 'Striped Red Mullet', 'Shrimp', 'Gilt-Head Bream', 'Red Sea Bream']\n",
        "9\n",
        "N=[]\n",
        "for i in range(len(Name)):\n",
        "    N+=[i]\n",
        "    \n",
        "normal_mapping=dict(zip(Name,N)) \n",
        "reverse_mapping=dict(zip(N,Name)) \n",
        "\n",
        "def mapper(value):\n",
        "    return reverse_mapping[value]\n",
        "File=[]\n",
        "for file in os.listdir(directory):\n",
        "    if file[-4:]!='pt.m' and file[-4:]!='.txt':\n",
        "        File+=[file]\n",
        "        print(file)"
      ],
      "metadata": {
        "colab": {
          "base_uri": "https://localhost:8080/"
        },
        "id": "ZkLG1N9RyeLy",
        "outputId": "8ed04f1d-6baa-4183-b90c-ce0e2472f064"
      },
      "execution_count": 14,
      "outputs": [
        {
          "output_type": "stream",
          "name": "stdout",
          "text": [
            "['Red Mullet', 'Sea Bass', 'Striped Red Mullet', 'Hourse Mackerel', 'Trout', 'Black Sea Sprat', 'Shrimp', 'Gilt-Head Bream', 'Red Sea Bream']\n",
            "9\n",
            "Red Mullet\n",
            "Sea Bass\n",
            "Striped Red Mullet\n",
            "Hourse Mackerel\n",
            "Trout\n",
            "Black Sea Sprat\n",
            "Shrimp\n",
            "Gilt-Head Bream\n",
            "Red Sea Bream\n"
          ]
        }
      ]
    },
    {
      "cell_type": "code",
      "source": [
        "dataset=[]\n",
        "testset=[]\n",
        "count=0\n",
        "for file in File:\n",
        "    path=os.path.join(directory,file,file)\n",
        "    t=0\n",
        "    for im in os.listdir(path):\n",
        "        if im[-4:]!='pt.m' and im[-4:]!='.txt':\n",
        "            image=load_img(os.path.join(path,im), grayscale=False, color_mode='rgb', target_size=(100,100))\n",
        "            image=img_to_array(image)\n",
        "            image=image/255.0\n",
        "            if t<=800:\n",
        "                dataset.append([image,count])\n",
        "            else:   \n",
        "                testset.append([image,count])\n",
        "            t+=1\n",
        "    count=count+1"
      ],
      "metadata": {
        "id": "Y4qZTCyqzJy6"
      },
      "execution_count": 15,
      "outputs": []
    },
    {
      "cell_type": "code",
      "source": [
        "data,labels0=zip(*dataset)\n",
        "test,tlabels0=zip(*testset)"
      ],
      "metadata": {
        "id": "X722NquczNEv"
      },
      "execution_count": 16,
      "outputs": []
    },
    {
      "cell_type": "code",
      "source": [
        "labels1=to_categorical(labels0)\n",
        "data=np.array(data)\n",
        "labels=np.array(labels1)"
      ],
      "metadata": {
        "id": "4d4_KaXRzOmo"
      },
      "execution_count": 17,
      "outputs": []
    },
    {
      "cell_type": "code",
      "source": [
        "tlabels1=to_categorical(tlabels0)\n",
        "test=np.array(test)\n",
        "tlabels=np.array(tlabels1)"
      ],
      "metadata": {
        "id": "RxNlMyA3zQKf"
      },
      "execution_count": 18,
      "outputs": []
    },
    {
      "cell_type": "code",
      "source": [
        "trainx,testx,trainy,testy=train_test_split(data,labels,test_size=0.2,random_state=44)"
      ],
      "metadata": {
        "id": "QC2waqH7zRtW"
      },
      "execution_count": 19,
      "outputs": []
    },
    {
      "cell_type": "code",
      "source": [
        "print(trainx.shape)\n",
        "print(testx.shape)\n",
        "print(trainy.shape)\n",
        "print(testy.shape)"
      ],
      "metadata": {
        "colab": {
          "base_uri": "https://localhost:8080/"
        },
        "id": "wymaM3hHzTDn",
        "outputId": "26b6683f-4c39-487c-a3c5-ce7cce1907a9"
      },
      "execution_count": 20,
      "outputs": [
        {
          "output_type": "stream",
          "name": "stdout",
          "text": [
            "(5767, 100, 100, 3)\n",
            "(1442, 100, 100, 3)\n",
            "(5767, 9)\n",
            "(1442, 9)\n"
          ]
        }
      ]
    },
    {
      "cell_type": "code",
      "source": [
        "datagen = ImageDataGenerator(horizontal_flip=True,vertical_flip=True,rotation_range=20,zoom_range=0.2,\n",
        "                        width_shift_range=0.2,height_shift_range=0.2,shear_range=0.1,fill_mode=\"nearest\")\n",
        "pretrained_model3 = tf.keras.applications.DenseNet201(input_shape=(100,100,3),include_top=False,weights='imagenet',pooling='avg')\n",
        "pretrained_model3.trainable = False\n",
        "inputs3 = pretrained_model3.input\n",
        "x3 = tf.keras.layers.Dense(128, activation='relu')(pretrained_model3.output)\n",
        "outputs3 = tf.keras.layers.Dense(9, activation='softmax')(x3)\n",
        "model = tf.keras.Model(inputs=inputs3, outputs=outputs3)\n",
        "model.compile(optimizer='adam',loss='categorical_crossentropy',metrics=['accuracy'])\n",
        "his=model.fit(datagen.flow(trainx,trainy,batch_size=32),validation_data=(testx,testy),epochs=20)"
      ],
      "metadata": {
        "colab": {
          "base_uri": "https://localhost:8080/"
        },
        "id": "3tIWruzXzVns",
        "outputId": "608a68c9-2754-44d5-c3ba-f50825f18c38"
      },
      "execution_count": 21,
      "outputs": [
        {
          "output_type": "stream",
          "name": "stdout",
          "text": [
            "Downloading data from https://storage.googleapis.com/tensorflow/keras-applications/densenet/densenet201_weights_tf_dim_ordering_tf_kernels_notop.h5\n",
            "74842112/74836368 [==============================] - 2s 0us/step\n",
            "74850304/74836368 [==============================] - 2s 0us/step\n",
            "Epoch 1/20\n",
            "181/181 [==============================] - 46s 134ms/step - loss: 0.6516 - accuracy: 0.7734 - val_loss: 0.2619 - val_accuracy: 0.9071\n",
            "Epoch 2/20\n",
            "181/181 [==============================] - 20s 111ms/step - loss: 0.2738 - accuracy: 0.9038 - val_loss: 0.2465 - val_accuracy: 0.9064\n",
            "Epoch 3/20\n",
            "181/181 [==============================] - 19s 105ms/step - loss: 0.2160 - accuracy: 0.9208 - val_loss: 0.1060 - val_accuracy: 0.9653\n",
            "Epoch 4/20\n",
            "181/181 [==============================] - 19s 103ms/step - loss: 0.1720 - accuracy: 0.9398 - val_loss: 0.1459 - val_accuracy: 0.9445\n",
            "Epoch 5/20\n",
            "181/181 [==============================] - 18s 102ms/step - loss: 0.1670 - accuracy: 0.9404 - val_loss: 0.0864 - val_accuracy: 0.9660\n",
            "Epoch 6/20\n",
            "181/181 [==============================] - 19s 106ms/step - loss: 0.1463 - accuracy: 0.9456 - val_loss: 0.2525 - val_accuracy: 0.9223\n",
            "Epoch 7/20\n",
            "181/181 [==============================] - 21s 114ms/step - loss: 0.1435 - accuracy: 0.9483 - val_loss: 0.0790 - val_accuracy: 0.9764\n",
            "Epoch 8/20\n",
            "181/181 [==============================] - 19s 102ms/step - loss: 0.1325 - accuracy: 0.9516 - val_loss: 0.1322 - val_accuracy: 0.9521\n",
            "Epoch 9/20\n",
            "181/181 [==============================] - 18s 102ms/step - loss: 0.1280 - accuracy: 0.9547 - val_loss: 0.0728 - val_accuracy: 0.9750\n",
            "Epoch 10/20\n",
            "181/181 [==============================] - 19s 106ms/step - loss: 0.1159 - accuracy: 0.9580 - val_loss: 0.0822 - val_accuracy: 0.9743\n",
            "Epoch 11/20\n",
            "181/181 [==============================] - 18s 102ms/step - loss: 0.1172 - accuracy: 0.9587 - val_loss: 0.1070 - val_accuracy: 0.9598\n",
            "Epoch 12/20\n",
            "181/181 [==============================] - 19s 105ms/step - loss: 0.1271 - accuracy: 0.9572 - val_loss: 0.1643 - val_accuracy: 0.9445\n",
            "Epoch 13/20\n",
            "181/181 [==============================] - 19s 102ms/step - loss: 0.1008 - accuracy: 0.9650 - val_loss: 0.0760 - val_accuracy: 0.9730\n",
            "Epoch 14/20\n",
            "181/181 [==============================] - 19s 103ms/step - loss: 0.1189 - accuracy: 0.9565 - val_loss: 0.1356 - val_accuracy: 0.9563\n",
            "Epoch 15/20\n",
            "181/181 [==============================] - 19s 106ms/step - loss: 0.1050 - accuracy: 0.9636 - val_loss: 0.0749 - val_accuracy: 0.9688\n",
            "Epoch 16/20\n",
            "181/181 [==============================] - 19s 102ms/step - loss: 0.0983 - accuracy: 0.9651 - val_loss: 0.0859 - val_accuracy: 0.9695\n",
            "Epoch 17/20\n",
            "181/181 [==============================] - 19s 106ms/step - loss: 0.1018 - accuracy: 0.9641 - val_loss: 0.1369 - val_accuracy: 0.9480\n",
            "Epoch 18/20\n",
            "181/181 [==============================] - 19s 105ms/step - loss: 0.0848 - accuracy: 0.9705 - val_loss: 0.0575 - val_accuracy: 0.9792\n",
            "Epoch 19/20\n",
            "181/181 [==============================] - 19s 105ms/step - loss: 0.1009 - accuracy: 0.9655 - val_loss: 0.0816 - val_accuracy: 0.9771\n",
            "Epoch 20/20\n",
            "181/181 [==============================] - 19s 105ms/step - loss: 0.1013 - accuracy: 0.9624 - val_loss: 0.0535 - val_accuracy: 0.9847\n"
          ]
        }
      ]
    },
    {
      "cell_type": "code",
      "source": [
        "y_pred=model.predict(testx)\n",
        "pred=np.argmax(y_pred,axis=1)\n",
        "ground = np.argmax(testy,axis=1)\n",
        "print(classification_report(ground,pred))"
      ],
      "metadata": {
        "colab": {
          "base_uri": "https://localhost:8080/"
        },
        "id": "vNPKHayFzid7",
        "outputId": "c9a9f66c-9512-4465-c16d-c451ccaa2e1b"
      },
      "execution_count": 22,
      "outputs": [
        {
          "output_type": "stream",
          "name": "stdout",
          "text": [
            "              precision    recall  f1-score   support\n",
            "\n",
            "           0       1.00      0.99      0.99       134\n",
            "           1       0.99      0.98      0.98       161\n",
            "           2       0.98      0.96      0.97       169\n",
            "           3       0.99      1.00      1.00       170\n",
            "           4       0.99      0.99      0.99       163\n",
            "           5       0.99      0.98      0.99       172\n",
            "           6       0.96      1.00      0.98       138\n",
            "           7       0.98      0.98      0.98       168\n",
            "           8       0.98      0.99      0.99       167\n",
            "\n",
            "    accuracy                           0.98      1442\n",
            "   macro avg       0.98      0.99      0.98      1442\n",
            "weighted avg       0.98      0.98      0.98      1442\n",
            "\n"
          ]
        }
      ]
    },
    {
      "cell_type": "code",
      "source": [
        "get_acc = his.history['accuracy']\n",
        "value_acc = his.history['val_accuracy']\n",
        "get_loss = his.history['loss']\n",
        "validation_loss = his.history['val_loss']\n",
        "\n",
        "epochs = range(len(get_acc))\n",
        "plt.plot(epochs, get_acc, 'r', label='Accuracy of Training data')\n",
        "plt.plot(epochs, value_acc, 'b', label='Accuracy of Validation data')\n",
        "plt.title('Training vs validation accuracy')\n",
        "plt.legend(loc=0)\n",
        "plt.figure()\n",
        "plt.show()"
      ],
      "metadata": {
        "colab": {
          "base_uri": "https://localhost:8080/",
          "height": 298
        },
        "id": "w8BYgNMFzk7A",
        "outputId": "6a59ecc6-c67f-4ab2-90ed-31f84ffa3aea"
      },
      "execution_count": 23,
      "outputs": [
        {
          "output_type": "display_data",
          "data": {
            "text/plain": [
              "<Figure size 432x288 with 1 Axes>"
            ],
            "image/png": "[encoded data removed]"
          },
          "metadata": {
            "needs_background": "light"
          }
        },
        {
          "output_type": "display_data",
          "data": {
            "text/plain": [
              "<Figure size 432x288 with 0 Axes>"
            ]
          },
          "metadata": {}
        }
      ]
    },
    {
      "cell_type": "code",
      "source": [
        "epochs = range(len(get_loss))\n",
        "plt.plot(epochs, get_loss, 'r', label='Loss of Training data')\n",
        "plt.plot(epochs, validation_loss, 'b', label='Loss of Validation data')\n",
        "plt.title('Training vs validation loss')\n",
        "plt.legend(loc=0)\n",
        "plt.figure()\n",
        "plt.show()"
      ],
      "metadata": {
        "colab": {
          "base_uri": "https://localhost:8080/",
          "height": 298
        },
        "id": "aqgy8CD1zmbv",
        "outputId": "5ffe1b6b-a2da-4fde-9d9b-a902cc4a3c40"
      },
      "execution_count": 24,
      "outputs": [
        {
          "output_type": "display_data",
          "data": {
            "text/plain": [
              "<Figure size 432x288 with 1 Axes>"
            ],
            "image/png": "[encoded data removed]"
          },
          "metadata": {
            "needs_background": "light"
          }
        },
        {
          "output_type": "display_data",
          "data": {
            "text/plain": [
              "<Figure size 432x288 with 0 Axes>"
            ]
          },
          "metadata": {}
        }
      ]
    },
    {
      "cell_type": "code",
      "source": [
        "image = load_img(\"/content/Fish_Dataset/Fish_Dataset/Red Mullet/Red Mullet/00003.png\",target_size=(100,100))"
      ],
      "metadata": {
        "id": "HfsX4AMpzt0u"
      },
      "execution_count": 26,
      "outputs": []
    },
    {
      "cell_type": "code",
      "source": [
        "image=img_to_array(image) \n",
        "image=image/255.0\n",
        "prediction_image=np.array(image)\n",
        "prediction_image= np.expand_dims(image, axis=0)"
      ],
      "metadata": {
        "id": "2rGrutp0zy2l"
      },
      "execution_count": 27,
      "outputs": []
    },
    {
      "cell_type": "code",
      "source": [
        "prediction=model.predict(prediction_image)\n",
        "value=np.argmax(prediction)\n",
        "move_name=mapper(value)\n",
        "#print(prediction)\n",
        "#print(value)\n",
        "print(\"Prediction is {}.\".format(move_name))"
      ],
      "metadata": {
        "colab": {
          "base_uri": "https://localhost:8080/"
        },
        "id": "p_g3F0fuz0qj",
        "outputId": "747e3fd4-d5f7-4f4f-9d79-d9989dc9ac45"
      },
      "execution_count": 28,
      "outputs": [
        {
          "output_type": "stream",
          "name": "stdout",
          "text": [
            "Prediction is Red Mullet.\n"
          ]
        }
      ]
    },
    {
      "cell_type": "code",
      "source": [
        "print(test.shape)\n",
        "prediction2=model.predict(test)\n",
        "print(prediction2.shape)"
      ],
      "metadata": {
        "colab": {
          "base_uri": "https://localhost:8080/"
        },
        "id": "j99bOdqkz2ej",
        "outputId": "82365610-ddd8-4578-89a9-4fc2dd9644ef"
      },
      "execution_count": 29,
      "outputs": [
        {
          "output_type": "stream",
          "name": "stdout",
          "text": [
            "(1791, 100, 100, 3)\n",
            "(1791, 9)\n"
          ]
        }
      ]
    },
    {
      "cell_type": "code",
      "source": [
        "PRED=[]\n",
        "for item in prediction2:\n",
        "    value2=np.argmax(item)      \n",
        "    PRED+=[value2]"
      ],
      "metadata": {
        "id": "UpTVhnf4z3zp"
      },
      "execution_count": 30,
      "outputs": []
    },
    {
      "cell_type": "code",
      "source": [
        "ANS=tlabels0\n",
        "accuracy=accuracy_score(ANS,PRED)\n",
        "print(accuracy)"
      ],
      "metadata": {
        "colab": {
          "base_uri": "https://localhost:8080/"
        },
        "id": "dKrNr-GMz5-p",
        "outputId": "1034ef5e-7e0e-4ef2-ac10-f8e8b75efc07"
      },
      "execution_count": 31,
      "outputs": [
        {
          "output_type": "stream",
          "name": "stdout",
          "text": [
            "0.9821328866554997\n"
          ]
        }
      ]
    }
  ]
}